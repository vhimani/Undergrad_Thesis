{
 "cells": [
  {
   "cell_type": "code",
   "execution_count": 170,
   "id": "4da50c87",
   "metadata": {
    "scrolled": true
   },
   "outputs": [],
   "source": [
    "import zipfile\n",
    "import pyreadstat\n",
    "import numpy as np\n",
    "import pandas as pd\n",
    "# for lexicons: https://www.bls.gov/tus/lexiconwex2020.pdf, https://www.markaguiar.com/files/time_appendix.pdf\n",
    "# https://onlinelisttools.com/join-list"
   ]
  },
  {
   "cell_type": "markdown",
   "id": "2e8e4554",
   "metadata": {},
   "source": [
    "## 2020"
   ]
  },
  {
   "cell_type": "code",
   "execution_count": 132,
   "id": "db1a6033",
   "metadata": {},
   "outputs": [
    {
     "data": {
      "text/html": [
       "<div>\n",
       "<style scoped>\n",
       "    .dataframe tbody tr th:only-of-type {\n",
       "        vertical-align: middle;\n",
       "    }\n",
       "\n",
       "    .dataframe tbody tr th {\n",
       "        vertical-align: top;\n",
       "    }\n",
       "\n",
       "    .dataframe thead th {\n",
       "        text-align: right;\n",
       "    }\n",
       "</style>\n",
       "<table border=\"1\" class=\"dataframe\">\n",
       "  <thead>\n",
       "    <tr style=\"text-align: right;\">\n",
       "      <th></th>\n",
       "      <th>TUCASEID</th>\n",
       "      <th>GEMETSTA</th>\n",
       "      <th>GTMETSTA</th>\n",
       "      <th>PEEDUCA</th>\n",
       "      <th>PEHSPNON</th>\n",
       "      <th>PTDTRACE</th>\n",
       "      <th>TEAGE</th>\n",
       "      <th>TELFS</th>\n",
       "      <th>TEMJOT</th>\n",
       "      <th>TESCHENR</th>\n",
       "      <th>...</th>\n",
       "      <th>t181801</th>\n",
       "      <th>t181899</th>\n",
       "      <th>t189999</th>\n",
       "      <th>t500101</th>\n",
       "      <th>t500103</th>\n",
       "      <th>t500104</th>\n",
       "      <th>t500105</th>\n",
       "      <th>t500106</th>\n",
       "      <th>t500107</th>\n",
       "      <th>t509989</th>\n",
       "    </tr>\n",
       "  </thead>\n",
       "  <tbody>\n",
       "    <tr>\n",
       "      <th>0</th>\n",
       "      <td>20030100013280</td>\n",
       "      <td>1</td>\n",
       "      <td>-1</td>\n",
       "      <td>44</td>\n",
       "      <td>2</td>\n",
       "      <td>2</td>\n",
       "      <td>60</td>\n",
       "      <td>2</td>\n",
       "      <td>2</td>\n",
       "      <td>-1</td>\n",
       "      <td>...</td>\n",
       "      <td>0</td>\n",
       "      <td>0</td>\n",
       "      <td>0</td>\n",
       "      <td>0</td>\n",
       "      <td>0</td>\n",
       "      <td>0</td>\n",
       "      <td>0</td>\n",
       "      <td>0</td>\n",
       "      <td>0</td>\n",
       "      <td>0</td>\n",
       "    </tr>\n",
       "    <tr>\n",
       "      <th>1</th>\n",
       "      <td>20030100013344</td>\n",
       "      <td>2</td>\n",
       "      <td>-1</td>\n",
       "      <td>40</td>\n",
       "      <td>2</td>\n",
       "      <td>1</td>\n",
       "      <td>41</td>\n",
       "      <td>1</td>\n",
       "      <td>2</td>\n",
       "      <td>2</td>\n",
       "      <td>...</td>\n",
       "      <td>0</td>\n",
       "      <td>0</td>\n",
       "      <td>0</td>\n",
       "      <td>0</td>\n",
       "      <td>0</td>\n",
       "      <td>0</td>\n",
       "      <td>0</td>\n",
       "      <td>0</td>\n",
       "      <td>0</td>\n",
       "      <td>0</td>\n",
       "    </tr>\n",
       "    <tr>\n",
       "      <th>2</th>\n",
       "      <td>20030100013352</td>\n",
       "      <td>1</td>\n",
       "      <td>-1</td>\n",
       "      <td>41</td>\n",
       "      <td>2</td>\n",
       "      <td>1</td>\n",
       "      <td>26</td>\n",
       "      <td>2</td>\n",
       "      <td>2</td>\n",
       "      <td>2</td>\n",
       "      <td>...</td>\n",
       "      <td>0</td>\n",
       "      <td>0</td>\n",
       "      <td>0</td>\n",
       "      <td>0</td>\n",
       "      <td>0</td>\n",
       "      <td>0</td>\n",
       "      <td>0</td>\n",
       "      <td>0</td>\n",
       "      <td>0</td>\n",
       "      <td>0</td>\n",
       "    </tr>\n",
       "    <tr>\n",
       "      <th>3</th>\n",
       "      <td>20030100013848</td>\n",
       "      <td>2</td>\n",
       "      <td>-1</td>\n",
       "      <td>39</td>\n",
       "      <td>2</td>\n",
       "      <td>2</td>\n",
       "      <td>36</td>\n",
       "      <td>4</td>\n",
       "      <td>-1</td>\n",
       "      <td>2</td>\n",
       "      <td>...</td>\n",
       "      <td>0</td>\n",
       "      <td>0</td>\n",
       "      <td>0</td>\n",
       "      <td>0</td>\n",
       "      <td>0</td>\n",
       "      <td>0</td>\n",
       "      <td>0</td>\n",
       "      <td>0</td>\n",
       "      <td>0</td>\n",
       "      <td>0</td>\n",
       "    </tr>\n",
       "    <tr>\n",
       "      <th>4</th>\n",
       "      <td>20030100014165</td>\n",
       "      <td>2</td>\n",
       "      <td>-1</td>\n",
       "      <td>45</td>\n",
       "      <td>2</td>\n",
       "      <td>1</td>\n",
       "      <td>51</td>\n",
       "      <td>1</td>\n",
       "      <td>2</td>\n",
       "      <td>-1</td>\n",
       "      <td>...</td>\n",
       "      <td>0</td>\n",
       "      <td>0</td>\n",
       "      <td>0</td>\n",
       "      <td>0</td>\n",
       "      <td>0</td>\n",
       "      <td>0</td>\n",
       "      <td>0</td>\n",
       "      <td>0</td>\n",
       "      <td>0</td>\n",
       "      <td>0</td>\n",
       "    </tr>\n",
       "    <tr>\n",
       "      <th>...</th>\n",
       "      <td>...</td>\n",
       "      <td>...</td>\n",
       "      <td>...</td>\n",
       "      <td>...</td>\n",
       "      <td>...</td>\n",
       "      <td>...</td>\n",
       "      <td>...</td>\n",
       "      <td>...</td>\n",
       "      <td>...</td>\n",
       "      <td>...</td>\n",
       "      <td>...</td>\n",
       "      <td>...</td>\n",
       "      <td>...</td>\n",
       "      <td>...</td>\n",
       "      <td>...</td>\n",
       "      <td>...</td>\n",
       "      <td>...</td>\n",
       "      <td>...</td>\n",
       "      <td>...</td>\n",
       "      <td>...</td>\n",
       "      <td>...</td>\n",
       "    </tr>\n",
       "    <tr>\n",
       "      <th>219363</th>\n",
       "      <td>20201212202264</td>\n",
       "      <td>-1</td>\n",
       "      <td>1</td>\n",
       "      <td>43</td>\n",
       "      <td>2</td>\n",
       "      <td>1</td>\n",
       "      <td>35</td>\n",
       "      <td>1</td>\n",
       "      <td>2</td>\n",
       "      <td>2</td>\n",
       "      <td>...</td>\n",
       "      <td>0</td>\n",
       "      <td>0</td>\n",
       "      <td>0</td>\n",
       "      <td>0</td>\n",
       "      <td>0</td>\n",
       "      <td>0</td>\n",
       "      <td>0</td>\n",
       "      <td>0</td>\n",
       "      <td>0</td>\n",
       "      <td>0</td>\n",
       "    </tr>\n",
       "    <tr>\n",
       "      <th>219364</th>\n",
       "      <td>20201212202289</td>\n",
       "      <td>-1</td>\n",
       "      <td>1</td>\n",
       "      <td>34</td>\n",
       "      <td>2</td>\n",
       "      <td>1</td>\n",
       "      <td>26</td>\n",
       "      <td>5</td>\n",
       "      <td>-1</td>\n",
       "      <td>2</td>\n",
       "      <td>...</td>\n",
       "      <td>0</td>\n",
       "      <td>0</td>\n",
       "      <td>0</td>\n",
       "      <td>0</td>\n",
       "      <td>0</td>\n",
       "      <td>0</td>\n",
       "      <td>0</td>\n",
       "      <td>0</td>\n",
       "      <td>0</td>\n",
       "      <td>0</td>\n",
       "    </tr>\n",
       "    <tr>\n",
       "      <th>219365</th>\n",
       "      <td>20201212202303</td>\n",
       "      <td>-1</td>\n",
       "      <td>1</td>\n",
       "      <td>44</td>\n",
       "      <td>2</td>\n",
       "      <td>1</td>\n",
       "      <td>37</td>\n",
       "      <td>2</td>\n",
       "      <td>2</td>\n",
       "      <td>2</td>\n",
       "      <td>...</td>\n",
       "      <td>0</td>\n",
       "      <td>0</td>\n",
       "      <td>0</td>\n",
       "      <td>0</td>\n",
       "      <td>0</td>\n",
       "      <td>0</td>\n",
       "      <td>0</td>\n",
       "      <td>0</td>\n",
       "      <td>0</td>\n",
       "      <td>0</td>\n",
       "    </tr>\n",
       "    <tr>\n",
       "      <th>219366</th>\n",
       "      <td>20201212202312</td>\n",
       "      <td>-1</td>\n",
       "      <td>1</td>\n",
       "      <td>43</td>\n",
       "      <td>2</td>\n",
       "      <td>1</td>\n",
       "      <td>41</td>\n",
       "      <td>2</td>\n",
       "      <td>2</td>\n",
       "      <td>1</td>\n",
       "      <td>...</td>\n",
       "      <td>0</td>\n",
       "      <td>0</td>\n",
       "      <td>0</td>\n",
       "      <td>0</td>\n",
       "      <td>0</td>\n",
       "      <td>0</td>\n",
       "      <td>0</td>\n",
       "      <td>0</td>\n",
       "      <td>0</td>\n",
       "      <td>0</td>\n",
       "    </tr>\n",
       "    <tr>\n",
       "      <th>219367</th>\n",
       "      <td>20201212202329</td>\n",
       "      <td>-1</td>\n",
       "      <td>1</td>\n",
       "      <td>39</td>\n",
       "      <td>2</td>\n",
       "      <td>2</td>\n",
       "      <td>73</td>\n",
       "      <td>5</td>\n",
       "      <td>-1</td>\n",
       "      <td>-1</td>\n",
       "      <td>...</td>\n",
       "      <td>0</td>\n",
       "      <td>0</td>\n",
       "      <td>0</td>\n",
       "      <td>0</td>\n",
       "      <td>0</td>\n",
       "      <td>0</td>\n",
       "      <td>0</td>\n",
       "      <td>0</td>\n",
       "      <td>0</td>\n",
       "      <td>0</td>\n",
       "    </tr>\n",
       "  </tbody>\n",
       "</table>\n",
       "<p>219368 rows × 456 columns</p>\n",
       "</div>"
      ],
      "text/plain": [
       "              TUCASEID  GEMETSTA  GTMETSTA  PEEDUCA  PEHSPNON  PTDTRACE  \\\n",
       "0       20030100013280         1        -1       44         2         2   \n",
       "1       20030100013344         2        -1       40         2         1   \n",
       "2       20030100013352         1        -1       41         2         1   \n",
       "3       20030100013848         2        -1       39         2         2   \n",
       "4       20030100014165         2        -1       45         2         1   \n",
       "...                ...       ...       ...      ...       ...       ...   \n",
       "219363  20201212202264        -1         1       43         2         1   \n",
       "219364  20201212202289        -1         1       34         2         1   \n",
       "219365  20201212202303        -1         1       44         2         1   \n",
       "219366  20201212202312        -1         1       43         2         1   \n",
       "219367  20201212202329        -1         1       39         2         2   \n",
       "\n",
       "        TEAGE  TELFS  TEMJOT  TESCHENR  ...  t181801  t181899  t189999  \\\n",
       "0          60      2       2        -1  ...        0        0        0   \n",
       "1          41      1       2         2  ...        0        0        0   \n",
       "2          26      2       2         2  ...        0        0        0   \n",
       "3          36      4      -1         2  ...        0        0        0   \n",
       "4          51      1       2        -1  ...        0        0        0   \n",
       "...       ...    ...     ...       ...  ...      ...      ...      ...   \n",
       "219363     35      1       2         2  ...        0        0        0   \n",
       "219364     26      5      -1         2  ...        0        0        0   \n",
       "219365     37      2       2         2  ...        0        0        0   \n",
       "219366     41      2       2         1  ...        0        0        0   \n",
       "219367     73      5      -1        -1  ...        0        0        0   \n",
       "\n",
       "        t500101  t500103  t500104  t500105  t500106  t500107  t509989  \n",
       "0             0        0        0        0        0        0        0  \n",
       "1             0        0        0        0        0        0        0  \n",
       "2             0        0        0        0        0        0        0  \n",
       "3             0        0        0        0        0        0        0  \n",
       "4             0        0        0        0        0        0        0  \n",
       "...         ...      ...      ...      ...      ...      ...      ...  \n",
       "219363        0        0        0        0        0        0        0  \n",
       "219364        0        0        0        0        0        0        0  \n",
       "219365        0        0        0        0        0        0        0  \n",
       "219366        0        0        0        0        0        0        0  \n",
       "219367        0        0        0        0        0        0        0  \n",
       "\n",
       "[219368 rows x 456 columns]"
      ]
     },
     "execution_count": 132,
     "metadata": {},
     "output_type": "execute_result"
    }
   ],
   "source": [
    "df = pd.read_csv('atussum_0320.dat')\n",
    "df"
   ]
  },
  {
   "cell_type": "code",
   "execution_count": 135,
   "id": "9e054507",
   "metadata": {},
   "outputs": [
    {
     "data": {
      "text/plain": [
       "19.52942179351592"
      ]
     },
     "execution_count": 135,
     "metadata": {},
     "output_type": "execute_result"
    }
   ],
   "source": [
    "market_work = ['t050101', 't050102', 't050103', 't050104', 't050199', 't050201', 't050202', 't050203', 't050204', 't050205', 't050299', 't059999', 't180501', 't180502', 't180599']\n",
    "for i in market_work:\n",
    "    if i not in df.columns:\n",
    "        df[i] = 0\n",
    "df['market_work'] = df[market_work].sum(axis=1)\n",
    "df['market_work'].mean()/7"
   ]
  },
  {
   "cell_type": "code",
   "execution_count": 137,
   "id": "4fd9f7c9",
   "metadata": {},
   "outputs": [
    {
     "data": {
      "text/plain": [
       "0.12109462507879779"
      ]
     },
     "execution_count": 137,
     "metadata": {},
     "output_type": "execute_result"
    }
   ],
   "source": [
    "other_income = ['t050301', 't050302', 't050303', 't050304', 't050305', 't050399', 't180503']\n",
    "for i in other_income:\n",
    "    if i not in df.columns:\n",
    "        df[i] = 0\n",
    "df['other_income'] = df[other_income].sum(axis=1)\n",
    "df['other_income'].mean()/7"
   ]
  },
  {
   "cell_type": "code",
   "execution_count": 138,
   "id": "664062bc",
   "metadata": {},
   "outputs": [
    {
     "data": {
      "text/plain": [
       "0.018642515902827343"
      ]
     },
     "execution_count": 138,
     "metadata": {},
     "output_type": "execute_result"
    }
   ],
   "source": [
    "job_search = ['t050401', 't050403', 't050404', 't050405', 't050499', 't180504']\n",
    "for i in job_search:\n",
    "    if i not in df.columns:\n",
    "        df[i] = 0\n",
    "df['job_search'] = df[job_search].sum(axis=1)\n",
    "df['job_search'].mean()/7"
   ]
  },
  {
   "cell_type": "code",
   "execution_count": 139,
   "id": "3d05c4b6",
   "metadata": {},
   "outputs": [
    {
     "data": {
      "text/plain": [
       "4.812558284318067"
      ]
     },
     "execution_count": 139,
     "metadata": {},
     "output_type": "execute_result"
    }
   ],
   "source": [
    "child_care = ['t030101', 't030102', 't030103', 't030104', 't030105', 't030106', 't030107','t030108', 't030109', 't030110', 't030111', 't030112', 't030199', 't030201', 't030202', 't030203', 't030204', 't030299', 't030301', 't030302', 't030303', 't030399', 't040101', 't040102', 't040103', 't040104', 't040105', 't040106', 't040107','t040108', 't040109', 't040110', 't040111', 't040112', 't040199', 't040201', 't040202', 't040203', 't040204', 't040299', 't040301', 't040302', 't040303', 't040399', 't170301', 't170401']#'t180301', 't180302', 't180303', 't180401', 't180402', 't180403']\n",
    "for i in child_care:\n",
    "    if i not in df.columns:\n",
    "        df[i] = 0\n",
    "df['child_care'] = df[child_care].sum(axis=1)\n",
    "df['child_care'].mean()/7"
   ]
  },
  {
   "cell_type": "code",
   "execution_count": 140,
   "id": "67f4acce",
   "metadata": {},
   "outputs": [
    {
     "data": {
      "text/plain": [
       "19.95885648121617"
      ]
     },
     "execution_count": 140,
     "metadata": {},
     "output_type": "execute_result"
    }
   ],
   "source": [
    "non_market_work = ['t020101', 't020102', 't020103', 't020104', 't020199', 't020201', 't020202', 't020203', 't020299', 't020302', 't020303', 't020399',  't020701', 't020799', 't020801', 't020899', 't020901', 't020902', 't020905', 't020999', 't029999', 't180201', 't180202', 't180203', 't180207', 't180208', 't180209', 't180299', 't020301', 't020401', 't020402', 't020499', 't020501', 't020502', 't020599', 't180204', 't180205', 't070101', 't070102', 't070103', 't070104', 't070105', 't070199', 't070201', 't070299', 't070301', 't070399', 't079999', 't030401', 't030402', 't030403', 't030404', 't030405', 't030499', 't030501', 't030502', 't030503', 't030504', 't030599', 't039999', 't040401', 't040402', 't040403', 't040404', 't040405', 't040499', 't049999', 't180304', 't180305', 't180399', 't180404', 't180405', 't180499']\n",
    "for i in non_market_work:\n",
    "    if i not in df.columns:\n",
    "        df[i] = 0\n",
    "df['non_market_work'] = df[non_market_work].sum(axis=1)\n",
    "df['non_market_work'].mean()/7"
   ]
  },
  {
   "cell_type": "code",
   "execution_count": 141,
   "id": "d844ad2b",
   "metadata": {},
   "outputs": [
    {
     "data": {
      "text/plain": [
       "139.46173943849084"
      ]
     },
     "execution_count": 141,
     "metadata": {},
     "output_type": "execute_result"
    }
   ],
   "source": [
    "leisure = ['t120303','t120304','t120101','t120199','t120201','t120202','t120299','t120307','t120501','t120502','t160101','t160102','t160103','t160104','t160105','t160106','t160107','t160108','t160199','t181201','t181202','t181601','t181699','t010101','t010102','t010199','t010201','t010299','t010401','t010499','t010501','t010599','t019999','t110101','t110199','t110201','t110299','t119999','t180101','t180199','t181101','t181199','t020601','t020602','t020699','t020903','t020904','t120301','t120302','t120305','t120306','t120308','t120309','t120310','t120311','t120312','t120313','t120399','t120503','t120504','t120599','t129999','t130101','t130102','t130103','t130104','t130105','t130106','t130107','t130108','t130109','t130110','t130111','t130112','t130113','t130114','t130115','t130116','t130117','t130118','t130119','t130120','t130121','t130122','t130123','t130124','t130125','t130126','t130127','t130128','t130129','t130130','t130131','t130132','t130133','t130134','t130135','t130136','t130199','t130201','t130202','t130203','t130204','t130205','t130206','t130207','t130208','t130209','t130210','t130211','t130212','t130213','t130214','t130215','t130216','t130217','t130218','t130219','t130220','t130221','t130222','t130223','t130224','t180206','t181203','t181204','t181205','t181299','t181301','t181302','t181399']\n",
    "for i in leisure:\n",
    "    if i not in df.columns:\n",
    "        df[i] = 0\n",
    "df['leisure'] = df[leisure].sum(axis=1)\n",
    "df['leisure'].mean()/7"
   ]
  },
  {
   "cell_type": "code",
   "execution_count": 142,
   "id": "4a737ad7",
   "metadata": {},
   "outputs": [
    {
     "data": {
      "text/plain": [
       "8.699110952502513"
      ]
     },
     "execution_count": 142,
     "metadata": {},
     "output_type": "execute_result"
    }
   ],
   "source": [
    "other = ['t060101','t060102','t060103','t060104','t060199','t060201','t060202','t060203','t060204','t060299','t060301','t060302','t060303','t060399','t060401','t060402','t060403','t060499','t069999','t181401','t181499','t181501','t181599','t181801','t181899','t189999','t500101','t500103','t500105','t500106','t500107','t180804','t010301','t010399','t150101','t150102','t150103','t150104','t150105','t150106','t150199','t150201','t150202','t150203','t150204','t150299','t150301','t150302','t150399','t150401','t150402','t150499','t150501','t150599','t150601','t150602','t150699','t150701','t150799','t150801','t150899','t159999','t140101','t140102','t140103','t140104','t140105','t149999','t080401','t080402','t080403','t080499']\n",
    "for i in other:\n",
    "    if i not in df.columns:\n",
    "        df[i] = 0\n",
    "df['other'] = df[other].sum(axis=1)\n",
    "df['other'].mean()/7"
   ]
  },
  {
   "cell_type": "markdown",
   "id": "2aa40c81",
   "metadata": {},
   "source": [
    "## 2003, 2004, 2005"
   ]
  },
  {
   "cell_type": "code",
   "execution_count": 143,
   "id": "c976f650",
   "metadata": {},
   "outputs": [],
   "source": [
    "df_2003 = pd.read_csv('atussum_2003.dat')\n",
    "df_2004 = pd.read_csv('atussum_2004.dat')\n",
    "df_2005 = pd.read_csv('atussum_2005.dat')\n",
    "df_2003 = df_2003[df_2003['TEAGE'] > 17]\n",
    "df_2003 = df_2003[df_2003['TEAGE'] < 66]\n",
    "df_2003 = df_2003.dropna()\n",
    "df_2004 = df_2004[df_2004['TEAGE'] > 17]\n",
    "df_2004 = df_2004[df_2004['TEAGE'] < 66]\n",
    "df_2004 = df_2004.dropna()\n",
    "df_2005 = df_2005[df_2005['TEAGE'] > 17]\n",
    "df_2005 = df_2005[df_2005['TEAGE'] < 66]\n",
    "df_2005 = df_2005.dropna()"
   ]
  },
  {
   "cell_type": "code",
   "execution_count": 144,
   "id": "8c3ad74d",
   "metadata": {},
   "outputs": [
    {
     "name": "stdout",
     "output_type": "stream",
     "text": [
      "22.324071385359954 22.01483728793093 24.349801606348596 22.896236759879827\n"
     ]
    }
   ],
   "source": [
    "for i in market_work:\n",
    "    if i not in df_2003.columns:\n",
    "        df_2003[i] = 0\n",
    "    if i not in df_2004.columns:\n",
    "        df_2004[i] = 0\n",
    "    if i not in df_2005.columns:\n",
    "        df_2005[i] = 0\n",
    "df_2003['market_work'] = df_2003[market_work].sum(axis=1)\n",
    "df_2004['market_work'] = df_2004[market_work].sum(axis=1)\n",
    "df_2005['market_work'] = df_2005[market_work].sum(axis=1)\n",
    "x = df_2003['market_work'].mean()/60*7\n",
    "y = df_2004['market_work'].mean()/60*7\n",
    "z = df_2005['market_work'].mean()/60*7\n",
    "print(x, y, z, (x+y+z)/3)"
   ]
  },
  {
   "cell_type": "code",
   "execution_count": 145,
   "id": "60eb1726",
   "metadata": {},
   "outputs": [
    {
     "name": "stdout",
     "output_type": "stream",
     "text": [
      "0.18650433555152252 0.16242679466280263 0.1977184730088637 0.18221653440772964\n"
     ]
    }
   ],
   "source": [
    "for i in other_income:\n",
    "    if i not in df_2003.columns:\n",
    "        df_2003[i] = 0\n",
    "    if i not in df_2004.columns:\n",
    "        df_2004[i] = 0\n",
    "    if i not in df_2005.columns:\n",
    "        df_2005[i] = 0\n",
    "df_2003['other_income'] = df_2003[other_income].sum(axis=1)\n",
    "df_2004['other_income'] = df_2004[other_income].sum(axis=1)\n",
    "df_2005['other_income'] = df_2005[other_income].sum(axis=1)\n",
    "x = df_2003['other_income'].mean()/60*7\n",
    "y = df_2004['other_income'].mean()/60*7\n",
    "z = df_2005['other_income'].mean()/60*7\n",
    "print(x, y, z, (x+y+z)/3)"
   ]
  },
  {
   "cell_type": "code",
   "execution_count": 146,
   "id": "7491a3a4",
   "metadata": {},
   "outputs": [
    {
     "name": "stdout",
     "output_type": "stream",
     "text": [
      "0.09139241782617465 0.10368139829740988 0.15662698793638602 0.11723360135332352\n"
     ]
    }
   ],
   "source": [
    "for i in job_search:\n",
    "    if i not in df_2003.columns:\n",
    "        df_2003[i] = 0\n",
    "    if i not in df_2004.columns:\n",
    "        df_2004[i] = 0\n",
    "    if i not in df_2005.columns:\n",
    "        df_2005[i] = 0\n",
    "df_2003['job_search'] = df_2003[job_search].sum(axis=1)\n",
    "df_2004['job_search'] = df_2004[job_search].sum(axis=1)\n",
    "df_2005['job_search'] = df_2005[job_search].sum(axis=1)\n",
    "x = df_2003['job_search'].mean()/60*7\n",
    "y = df_2004['job_search'].mean()/60*7\n",
    "z = df_2005['job_search'].mean()/60*7\n",
    "print(x, y, z, (x+y+z)/3)"
   ]
  },
  {
   "cell_type": "code",
   "execution_count": 163,
   "id": "e938a190",
   "metadata": {},
   "outputs": [
    {
     "name": "stdout",
     "output_type": "stream",
     "text": [
      "6.138000172845907 6.091003182653246 7.611171299661268 6.613391551720141\n"
     ]
    }
   ],
   "source": [
    "for i in child_care:\n",
    "    if i not in df_2003.columns:\n",
    "        df_2003[i] = 0\n",
    "    if i not in df_2004.columns:\n",
    "        df_2004[i] = 0\n",
    "    if i not in df_2005.columns:\n",
    "        df_2005[i] = 0\n",
    "df_2003['child_care'] = df_2003[child_care].sum(axis=1)\n",
    "df_2004['child_care'] = df_2004[child_care].sum(axis=1)\n",
    "df_2005['child_care'] = df_2005[child_care].sum(axis=1)\n",
    "x = df_2003['child_care'].mean()/7\n",
    "y = df_2004['child_care'].mean()/7\n",
    "z = df_2005['child_care'].mean()/7\n",
    "print(x, y, z, (x+y+z)/3)"
   ]
  },
  {
   "cell_type": "code",
   "execution_count": 164,
   "id": "d4ece5f1",
   "metadata": {},
   "outputs": [
    {
     "name": "stdout",
     "output_type": "stream",
     "text": [
      "21.955811943652233 22.1820710533806 22.696389144118818 22.278090713717216\n"
     ]
    }
   ],
   "source": [
    "for i in non_market_work:\n",
    "    if i not in df_2003.columns:\n",
    "        df_2003[i] = 0\n",
    "    if i not in df_2004.columns:\n",
    "        df_2004[i] = 0\n",
    "    if i not in df_2005.columns:\n",
    "        df_2005[i] = 0\n",
    "df_2003['non_market_work'] = df_2003[non_market_work].sum(axis=1)\n",
    "df_2004['non_market_work'] = df_2004[non_market_work].sum(axis=1)\n",
    "df_2005['non_market_work'] = df_2005[non_market_work].sum(axis=1)\n",
    "x = df_2003['non_market_work'].mean()/7\n",
    "y = df_2004['non_market_work'].mean()/7\n",
    "z = df_2005['non_market_work'].mean()/7\n",
    "print(x, y, z, (x+y+z)/3)"
   ]
  },
  {
   "cell_type": "code",
   "execution_count": 165,
   "id": "f4367f2f",
   "metadata": {},
   "outputs": [
    {
     "name": "stdout",
     "output_type": "stream",
     "text": [
      "129.79555786016766 130.60668357181672 133.57938260261386 131.32720801153275\n"
     ]
    }
   ],
   "source": [
    "for i in leisure:\n",
    "    if i not in df_2003.columns:\n",
    "        df_2003[i] = 0\n",
    "    if i not in df_2004.columns:\n",
    "        df_2004[i] = 0\n",
    "    if i not in df_2005.columns:\n",
    "        df_2005[i] = 0\n",
    "df_2003['leisure'] = df_2003[leisure].sum(axis=1)\n",
    "df_2004['leisure'] = df_2004[leisure].sum(axis=1)\n",
    "df_2005['leisure'] = df_2005[leisure].sum(axis=1)\n",
    "x = df_2003['leisure'].mean()/7\n",
    "y = df_2004['leisure'].mean()/7\n",
    "z = df_2005['leisure'].mean()/7\n",
    "print(x, y, z, (x+y+z)/3)"
   ]
  },
  {
   "cell_type": "code",
   "execution_count": 166,
   "id": "1e1e91d0",
   "metadata": {},
   "outputs": [
    {
     "name": "stdout",
     "output_type": "stream",
     "text": [
      "6.268481548699334 6.40001811266075 7.387045900245478 6.685181853868521\n"
     ]
    }
   ],
   "source": [
    "for i in other:\n",
    "    if i not in df_2003.columns:\n",
    "        df_2003[i] = 0\n",
    "    if i not in df_2004.columns:\n",
    "        df_2004[i] = 0\n",
    "    if i not in df_2005.columns:\n",
    "        df_2005[i] = 0\n",
    "df_2003['other'] = df_2003[other].sum(axis=1)\n",
    "df_2004['other'] = df_2004[other].sum(axis=1)\n",
    "df_2005['other'] = df_2005[other].sum(axis=1)\n",
    "x = df_2003['other'].mean()/7\n",
    "y = df_2004['other'].mean()/7\n",
    "z = df_2005['other'].mean()/7\n",
    "print(x, y, z, (x+y+z)/3)"
   ]
  },
  {
   "cell_type": "markdown",
   "id": "137ddc10",
   "metadata": {},
   "source": [
    "## 2006-2008"
   ]
  },
  {
   "cell_type": "code",
   "execution_count": 248,
   "id": "f207a78e",
   "metadata": {},
   "outputs": [],
   "source": [
    "df_2006 = pd.read_csv('atussum_2006.dat')\n",
    "df_2007 = pd.read_csv('atussum_2007.dat')\n",
    "df_2008 = pd.read_csv('atussum_2008.dat')\n",
    "df_2006 = df_2006[df_2006['TEAGE'] > 17]\n",
    "df_2006 = df_2006[df_2006['TEAGE'] < 66]\n",
    "df_2006 = df_2006.dropna()\n",
    "df_2007 = df_2007[df_2007['TEAGE'] > 17]\n",
    "df_2007 = df_2007[df_2007['TEAGE'] < 66]\n",
    "df_2007 = df_2007.dropna()\n",
    "df_2008 = df_2008[df_2008['TEAGE'] > 17]\n",
    "df_2008 = df_2008[df_2008['TEAGE'] < 66]\n",
    "df_2008 = df_2008.dropna()"
   ]
  },
  {
   "cell_type": "code",
   "execution_count": 222,
   "id": "6ee8ecf1",
   "metadata": {},
   "outputs": [
    {
     "name": "stdout",
     "output_type": "stream",
     "text": [
      "30.390950619148295 29.899944732155653 30.02981127285037 30.106902208051437\n"
     ]
    }
   ],
   "source": [
    "for i in market_work:\n",
    "    if i not in df_2006.columns:\n",
    "        df_2006[i] = 0\n",
    "    if i not in df_2007.columns:\n",
    "        df_2007[i] = 0\n",
    "    if i not in df_2008.columns:\n",
    "        df_2008[i] = 0\n",
    "df_2006['market_work'] = df_2006[market_work].sum(axis=1)\n",
    "df_2007['market_work'] = df_2007[market_work].sum(axis=1)\n",
    "df_2008['market_work'] = df_2008[market_work].sum(axis=1)\n",
    "x = df_2006['market_work'].mean()/7\n",
    "y = df_2007['market_work'].mean()/7\n",
    "z = df_2008['market_work'].mean()/7\n",
    "print(x, y, z, (x+y+z)/3)"
   ]
  },
  {
   "cell_type": "code",
   "execution_count": 223,
   "id": "676cf981",
   "metadata": {},
   "outputs": [
    {
     "name": "stdout",
     "output_type": "stream",
     "text": [
      "0.2554741769858049 0.2094446605121487 0.2856931279620853 0.25020398848667963\n"
     ]
    }
   ],
   "source": [
    "for i in other_income:\n",
    "    if i not in df_2006.columns:\n",
    "        df_2006[i] = 0\n",
    "    if i not in df_2007.columns:\n",
    "        df_2007[i] = 0\n",
    "    if i not in df_2008.columns:\n",
    "        df_2008[i] = 0\n",
    "df_2006['other_income'] = df_2006[other_income].sum(axis=1)\n",
    "df_2007['other_income'] = df_2007[other_income].sum(axis=1)\n",
    "df_2008['other_income'] = df_2008[other_income].sum(axis=1)\n",
    "x = df_2006['other_income'].mean()/7\n",
    "y = df_2007['other_income'].mean()/7\n",
    "z = df_2008['other_income'].mean()/7\n",
    "print(x, y, z, (x+y+z)/3)"
   ]
  },
  {
   "cell_type": "code",
   "execution_count": 224,
   "id": "7b3aceac",
   "metadata": {},
   "outputs": [
    {
     "name": "stdout",
     "output_type": "stream",
     "text": [
      "0.30075883418906674 0.18545432215012386 0.2663972579553148 0.25087013809816844\n"
     ]
    }
   ],
   "source": [
    "for i in job_search:\n",
    "    if i not in df_2006.columns:\n",
    "        df_2006[i] = 0\n",
    "    if i not in df_2007.columns:\n",
    "        df_2007[i] = 0\n",
    "    if i not in df_2008.columns:\n",
    "        df_2008[i] = 0\n",
    "df_2006['job_search'] = df_2006[job_search].sum(axis=1)\n",
    "df_2007['job_search'] = df_2007[job_search].sum(axis=1)\n",
    "df_2008['job_search'] = df_2008[job_search].sum(axis=1)\n",
    "x = df_2006['job_search'].mean()/7\n",
    "y = df_2007['job_search'].mean()/7\n",
    "z = df_2008['job_search'].mean()/7\n",
    "print(x, y, z, (x+y+z)/3)"
   ]
  },
  {
   "cell_type": "code",
   "execution_count": 225,
   "id": "0d1148da",
   "metadata": {},
   "outputs": [
    {
     "name": "stdout",
     "output_type": "stream",
     "text": [
      "6.962133796436122 6.933146377909238 6.539713100880163 6.811664425075175\n"
     ]
    }
   ],
   "source": [
    "for i in child_care:\n",
    "    if i not in df_2006.columns:\n",
    "        df_2006[i] = 0\n",
    "    if i not in df_2007.columns:\n",
    "        df_2007[i] = 0\n",
    "    if i not in df_2008.columns:\n",
    "        df_2008[i] = 0\n",
    "df_2006['child_care'] = df_2006[child_care].sum(axis=1)\n",
    "df_2007['child_care'] = df_2007[child_care].sum(axis=1)\n",
    "df_2008['child_care'] = df_2008[child_care].sum(axis=1)\n",
    "x = df_2006['child_care'].mean()/7\n",
    "y = df_2007['child_care'].mean()/7\n",
    "z = df_2008['child_care'].mean()/7\n",
    "print(x, y, z, (x+y+z)/3)"
   ]
  },
  {
   "cell_type": "code",
   "execution_count": 226,
   "id": "d3bb65b9",
   "metadata": {},
   "outputs": [
    {
     "name": "stdout",
     "output_type": "stream",
     "text": [
      "20.384834642102085 19.871021226946144 20.30776066350711 20.187872177518447\n"
     ]
    }
   ],
   "source": [
    "for i in non_market_work:\n",
    "    if i not in df_2006.columns:\n",
    "        df_2006[i] = 0\n",
    "    if i not in df_2007.columns:\n",
    "        df_2007[i] = 0\n",
    "    if i not in df_2008.columns:\n",
    "        df_2008[i] = 0\n",
    "df_2006['non_market_work'] = df_2006[non_market_work].sum(axis=1)\n",
    "df_2007['non_market_work'] = df_2007[non_market_work].sum(axis=1)\n",
    "df_2008['non_market_work'] = df_2008[non_market_work].sum(axis=1)\n",
    "x = df_2006['non_market_work'].mean()/7\n",
    "y = df_2007['non_market_work'].mean()/7\n",
    "z = df_2008['non_market_work'].mean()/7\n",
    "print(x, y, z, (x+y+z)/3)"
   ]
  },
  {
   "cell_type": "code",
   "execution_count": 227,
   "id": "84926b17",
   "metadata": {},
   "outputs": [
    {
     "name": "stdout",
     "output_type": "stream",
     "text": [
      "135.3767177589852 136.5089554377418 136.2708615436696 136.0521782467989\n"
     ]
    }
   ],
   "source": [
    "for i in leisure:\n",
    "    if i not in df_2006.columns:\n",
    "        df_2006[i] = 0\n",
    "    if i not in df_2007.columns:\n",
    "        df_2007[i] = 0\n",
    "    if i not in df_2008.columns:\n",
    "        df_2008[i] = 0\n",
    "df_2006['leisure'] = df_2006[leisure].sum(axis=1)\n",
    "df_2007['leisure'] = df_2007[leisure].sum(axis=1)\n",
    "df_2008['leisure'] = df_2008[leisure].sum(axis=1)\n",
    "x = df_2006['leisure'].mean()/7\n",
    "y = df_2007['leisure'].mean()/7\n",
    "z = df_2008['leisure'].mean()/7\n",
    "print(x, y, z, (x+y+z)/3)"
   ]
  },
  {
   "cell_type": "code",
   "execution_count": 228,
   "id": "fc831136",
   "metadata": {},
   "outputs": [
    {
     "name": "stdout",
     "output_type": "stream",
     "text": [
      "7.5343740561763815 7.569668188238183 7.470633039945836 7.524891761453468\n"
     ]
    }
   ],
   "source": [
    "for i in other:\n",
    "    if i not in df_2006.columns:\n",
    "        df_2006[i] = 0\n",
    "    if i not in df_2007.columns:\n",
    "        df_2007[i] = 0\n",
    "    if i not in df_2008.columns:\n",
    "        df_2008[i] = 0\n",
    "df_2006['other'] = df_2006[other].sum(axis=1)\n",
    "df_2007['other'] = df_2007[other].sum(axis=1)\n",
    "df_2008['other'] = df_2008[other].sum(axis=1)\n",
    "x = df_2006['other'].mean()/7\n",
    "y = df_2007['other'].mean()/7\n",
    "z = df_2008['other'].mean()/7\n",
    "print(x, y, z, (x+y+z)/3)"
   ]
  },
  {
   "cell_type": "markdown",
   "id": "ed48e2de",
   "metadata": {},
   "source": [
    "## 2009-2010"
   ]
  },
  {
   "cell_type": "code",
   "execution_count": 205,
   "id": "a014a64f",
   "metadata": {},
   "outputs": [],
   "source": [
    "df_2009 = pd.read_csv('atussum_2009.dat')\n",
    "df_2010 = pd.read_csv('atussum_2010.dat')\n",
    "df_2009 = df_2009[df_2009['TEAGE'] > 17]\n",
    "df_2009 = df_2009[df_2009['TEAGE'] < 66]\n",
    "df_2009 = df_2009.dropna()\n",
    "df_2010 = df_2010[df_2010['TEAGE'] > 17]\n",
    "df_2010 = df_2010[df_2010['TEAGE'] < 66]\n",
    "df_2010 = df_2010.dropna()"
   ]
  },
  {
   "cell_type": "code",
   "execution_count": 206,
   "id": "f7e58722",
   "metadata": {},
   "outputs": [
    {
     "name": "stdout",
     "output_type": "stream",
     "text": [
      "28.41611962575492 28.740783851884313 28.578451738819616\n"
     ]
    }
   ],
   "source": [
    "for i in market_work:\n",
    "    if i not in df_2009.columns:\n",
    "        df_2009[i] = 0\n",
    "    if i not in df_2010.columns:\n",
    "        df_2010[i] = 0\n",
    "df_2009['market_work'] = df_2009[market_work].sum(axis=1)\n",
    "df_2010['market_work'] = df_2010[market_work].sum(axis=1)\n",
    "x = df_2009['market_work'].mean()/7\n",
    "y = df_2010['market_work'].mean()/7\n",
    "print(x, y, (x+y)/2)"
   ]
  },
  {
   "cell_type": "code",
   "execution_count": 207,
   "id": "9d69456a",
   "metadata": {},
   "outputs": [
    {
     "name": "stdout",
     "output_type": "stream",
     "text": [
      "0.2697522077419533 0.34513310692375104 0.30744265733285214\n"
     ]
    }
   ],
   "source": [
    "for i in other_income:\n",
    "    if i not in df_2009.columns:\n",
    "        df_2009[i] = 0\n",
    "    if i not in df_2010.columns:\n",
    "        df_2010[i] = 0\n",
    "df_2009['other_income'] = df_2009[other_income].sum(axis=1)\n",
    "df_2010['other_income'] = df_2010[other_income].sum(axis=1)\n",
    "x = df_2009['other_income'].mean()/7\n",
    "y = df_2010['other_income'].mean()/7\n",
    "print(x, y, (x+y)/2)"
   ]
  },
  {
   "cell_type": "code",
   "execution_count": 208,
   "id": "6bdf4505",
   "metadata": {},
   "outputs": [
    {
     "name": "stdout",
     "output_type": "stream",
     "text": [
      "0.392860597852375 0.4596297107800175 0.42624515431619625\n"
     ]
    }
   ],
   "source": [
    "for i in job_search:\n",
    "    if i not in df_2009.columns:\n",
    "        df_2009[i] = 0\n",
    "    if i not in df_2010.columns:\n",
    "        df_2010[i] = 0\n",
    "df_2009['job_search'] = df_2009[job_search].sum(axis=1)\n",
    "df_2010['job_search'] = df_2010[job_search].sum(axis=1)\n",
    "x = df_2009['job_search'].mean()/7\n",
    "y = df_2010['job_search'].mean()/7\n",
    "print(x, y, (x+y)/2)"
   ]
  },
  {
   "cell_type": "code",
   "execution_count": 209,
   "id": "ccd3e873",
   "metadata": {},
   "outputs": [
    {
     "name": "stdout",
     "output_type": "stream",
     "text": [
      "7.353943531557926 7.152634750219106 7.253289140888516\n"
     ]
    }
   ],
   "source": [
    "for i in child_care:\n",
    "    if i not in df_2009.columns:\n",
    "        df_2009[i] = 0\n",
    "    if i not in df_2010.columns:\n",
    "        df_2010[i] = 0\n",
    "df_2009['child_care'] = df_2009[child_care].sum(axis=1)\n",
    "df_2010['child_care'] = df_2010[child_care].sum(axis=1)\n",
    "x = df_2009['child_care'].mean()/7\n",
    "y = df_2010['child_care'].mean()/7\n",
    "print(x, y, (x+y)/2)"
   ]
  },
  {
   "cell_type": "code",
   "execution_count": 210,
   "id": "06926575",
   "metadata": {},
   "outputs": [
    {
     "name": "stdout",
     "output_type": "stream",
     "text": [
      "20.521579900219738 20.238168273444348 20.379874086832043\n"
     ]
    }
   ],
   "source": [
    "for i in non_market_work:\n",
    "    if i not in df_2009.columns:\n",
    "        df_2009[i] = 0\n",
    "    if i not in df_2010.columns:\n",
    "        df_2010[i] = 0\n",
    "df_2009['non_market_work'] = df_2009[non_market_work].sum(axis=1)\n",
    "df_2010['non_market_work'] = df_2010[non_market_work].sum(axis=1)\n",
    "x = df_2009['non_market_work'].mean()/7\n",
    "y = df_2010['non_market_work'].mean()/7\n",
    "print(x, y, (x+y)/2)"
   ]
  },
  {
   "cell_type": "code",
   "execution_count": 211,
   "id": "2a1e5447",
   "metadata": {},
   "outputs": [
    {
     "name": "stdout",
     "output_type": "stream",
     "text": [
      "135.81319531779044 135.23181419807187 135.52250475793116\n"
     ]
    }
   ],
   "source": [
    "for i in leisure:\n",
    "    if i not in df_2009.columns:\n",
    "        df_2009[i] = 0\n",
    "    if i not in df_2010.columns:\n",
    "        df_2010[i] = 0\n",
    "df_2009['leisure'] = df_2009[leisure].sum(axis=1)\n",
    "df_2010['leisure'] = df_2010[leisure].sum(axis=1)\n",
    "x = df_2009['leisure'].mean()/7\n",
    "y = df_2010['leisure'].mean()/7\n",
    "print(x, y, (x+y)/2)"
   ]
  },
  {
   "cell_type": "code",
   "execution_count": 212,
   "id": "8f0f69cb",
   "metadata": {},
   "outputs": [
    {
     "name": "stdout",
     "output_type": "stream",
     "text": [
      "8.199367044873478 8.780578987730062 8.48997301630177\n"
     ]
    }
   ],
   "source": [
    "for i in other:\n",
    "    if i not in df_2009.columns:\n",
    "        df_2009[i] = 0\n",
    "    if i not in df_2010.columns:\n",
    "        df_2010[i] = 0\n",
    "df_2009['other'] = df_2009[other].sum(axis=1)\n",
    "df_2010['other'] = df_2010[other].sum(axis=1)\n",
    "x = df_2009['other'].mean()/7\n",
    "y = df_2010['other'].mean()/7\n",
    "print(x, y, (x+y)/2)"
   ]
  },
  {
   "cell_type": "markdown",
   "id": "40005827",
   "metadata": {},
   "source": [
    "## 2011-2013"
   ]
  },
  {
   "cell_type": "code",
   "execution_count": 194,
   "id": "711d3163",
   "metadata": {},
   "outputs": [
    {
     "data": {
      "text/plain": [
       "351"
      ]
     },
     "execution_count": 194,
     "metadata": {},
     "output_type": "execute_result"
    }
   ],
   "source": [
    "myset = set(all_lst)\n",
    "len(myset)"
   ]
  },
  {
   "cell_type": "code",
   "execution_count": 195,
   "id": "59897d38",
   "metadata": {},
   "outputs": [
    {
     "data": {
      "text/plain": [
       "353"
      ]
     },
     "execution_count": 195,
     "metadata": {},
     "output_type": "execute_result"
    }
   ],
   "source": [
    "len(all_lst)"
   ]
  },
  {
   "cell_type": "code",
   "execution_count": 204,
   "id": "a66999c4",
   "metadata": {},
   "outputs": [
    {
     "data": {
      "text/plain": [
       "[]"
      ]
     },
     "execution_count": 204,
     "metadata": {},
     "output_type": "execute_result"
    }
   ],
   "source": [
    "[i for i, x in enumerate(all_lst) if all_lst.count(x) > 1]"
   ]
  },
  {
   "cell_type": "code",
   "execution_count": 203,
   "id": "5ce03960",
   "metadata": {},
   "outputs": [],
   "source": [
    "all_lst = market_work + job_search + non_market_work + child_care + other_income + leisure + other "
   ]
  },
  {
   "cell_type": "code",
   "execution_count": 201,
   "id": "6a994834",
   "metadata": {},
   "outputs": [
    {
     "data": {
      "text/plain": [
       "'t189999'"
      ]
     },
     "execution_count": 201,
     "metadata": {},
     "output_type": "execute_result"
    }
   ],
   "source": [
    "all_lst[305]"
   ]
  },
  {
   "cell_type": "markdown",
   "id": "3b126781",
   "metadata": {},
   "source": [
    "## 2020 ALL FILES"
   ]
  },
  {
   "cell_type": "code",
   "execution_count": 147,
   "id": "90d7f1ff",
   "metadata": {},
   "outputs": [
    {
     "data": {
      "text/html": [
       "<div>\n",
       "<style scoped>\n",
       "    .dataframe tbody tr th:only-of-type {\n",
       "        vertical-align: middle;\n",
       "    }\n",
       "\n",
       "    .dataframe tbody tr th {\n",
       "        vertical-align: top;\n",
       "    }\n",
       "\n",
       "    .dataframe thead th {\n",
       "        text-align: right;\n",
       "    }\n",
       "</style>\n",
       "<table border=\"1\" class=\"dataframe\">\n",
       "  <thead>\n",
       "    <tr style=\"text-align: right;\">\n",
       "      <th></th>\n",
       "      <th>TUCASEID</th>\n",
       "      <th>GEMETSTA</th>\n",
       "      <th>GTMETSTA</th>\n",
       "      <th>PEEDUCA</th>\n",
       "      <th>PEHSPNON</th>\n",
       "      <th>PTDTRACE</th>\n",
       "      <th>TEAGE</th>\n",
       "      <th>TELFS</th>\n",
       "      <th>TEMJOT</th>\n",
       "      <th>TESCHENR</th>\n",
       "      <th>...</th>\n",
       "      <th>t181801</th>\n",
       "      <th>t181899</th>\n",
       "      <th>t189999</th>\n",
       "      <th>t500101</th>\n",
       "      <th>t500103</th>\n",
       "      <th>t500104</th>\n",
       "      <th>t500105</th>\n",
       "      <th>t500106</th>\n",
       "      <th>t500107</th>\n",
       "      <th>t509989</th>\n",
       "    </tr>\n",
       "  </thead>\n",
       "  <tbody>\n",
       "    <tr>\n",
       "      <th>0</th>\n",
       "      <td>20030100013280</td>\n",
       "      <td>1</td>\n",
       "      <td>-1</td>\n",
       "      <td>44</td>\n",
       "      <td>2</td>\n",
       "      <td>2</td>\n",
       "      <td>60</td>\n",
       "      <td>2</td>\n",
       "      <td>2</td>\n",
       "      <td>-1</td>\n",
       "      <td>...</td>\n",
       "      <td>0</td>\n",
       "      <td>0</td>\n",
       "      <td>0</td>\n",
       "      <td>0</td>\n",
       "      <td>0</td>\n",
       "      <td>0</td>\n",
       "      <td>0</td>\n",
       "      <td>0</td>\n",
       "      <td>0</td>\n",
       "      <td>0</td>\n",
       "    </tr>\n",
       "    <tr>\n",
       "      <th>1</th>\n",
       "      <td>20030100013344</td>\n",
       "      <td>2</td>\n",
       "      <td>-1</td>\n",
       "      <td>40</td>\n",
       "      <td>2</td>\n",
       "      <td>1</td>\n",
       "      <td>41</td>\n",
       "      <td>1</td>\n",
       "      <td>2</td>\n",
       "      <td>2</td>\n",
       "      <td>...</td>\n",
       "      <td>0</td>\n",
       "      <td>0</td>\n",
       "      <td>0</td>\n",
       "      <td>0</td>\n",
       "      <td>0</td>\n",
       "      <td>0</td>\n",
       "      <td>0</td>\n",
       "      <td>0</td>\n",
       "      <td>0</td>\n",
       "      <td>0</td>\n",
       "    </tr>\n",
       "    <tr>\n",
       "      <th>2</th>\n",
       "      <td>20030100013352</td>\n",
       "      <td>1</td>\n",
       "      <td>-1</td>\n",
       "      <td>41</td>\n",
       "      <td>2</td>\n",
       "      <td>1</td>\n",
       "      <td>26</td>\n",
       "      <td>2</td>\n",
       "      <td>2</td>\n",
       "      <td>2</td>\n",
       "      <td>...</td>\n",
       "      <td>0</td>\n",
       "      <td>0</td>\n",
       "      <td>0</td>\n",
       "      <td>0</td>\n",
       "      <td>0</td>\n",
       "      <td>0</td>\n",
       "      <td>0</td>\n",
       "      <td>0</td>\n",
       "      <td>0</td>\n",
       "      <td>0</td>\n",
       "    </tr>\n",
       "    <tr>\n",
       "      <th>3</th>\n",
       "      <td>20030100013848</td>\n",
       "      <td>2</td>\n",
       "      <td>-1</td>\n",
       "      <td>39</td>\n",
       "      <td>2</td>\n",
       "      <td>2</td>\n",
       "      <td>36</td>\n",
       "      <td>4</td>\n",
       "      <td>-1</td>\n",
       "      <td>2</td>\n",
       "      <td>...</td>\n",
       "      <td>0</td>\n",
       "      <td>0</td>\n",
       "      <td>0</td>\n",
       "      <td>0</td>\n",
       "      <td>0</td>\n",
       "      <td>0</td>\n",
       "      <td>0</td>\n",
       "      <td>0</td>\n",
       "      <td>0</td>\n",
       "      <td>0</td>\n",
       "    </tr>\n",
       "    <tr>\n",
       "      <th>4</th>\n",
       "      <td>20030100014165</td>\n",
       "      <td>2</td>\n",
       "      <td>-1</td>\n",
       "      <td>45</td>\n",
       "      <td>2</td>\n",
       "      <td>1</td>\n",
       "      <td>51</td>\n",
       "      <td>1</td>\n",
       "      <td>2</td>\n",
       "      <td>-1</td>\n",
       "      <td>...</td>\n",
       "      <td>0</td>\n",
       "      <td>0</td>\n",
       "      <td>0</td>\n",
       "      <td>0</td>\n",
       "      <td>0</td>\n",
       "      <td>0</td>\n",
       "      <td>0</td>\n",
       "      <td>0</td>\n",
       "      <td>0</td>\n",
       "      <td>0</td>\n",
       "    </tr>\n",
       "    <tr>\n",
       "      <th>...</th>\n",
       "      <td>...</td>\n",
       "      <td>...</td>\n",
       "      <td>...</td>\n",
       "      <td>...</td>\n",
       "      <td>...</td>\n",
       "      <td>...</td>\n",
       "      <td>...</td>\n",
       "      <td>...</td>\n",
       "      <td>...</td>\n",
       "      <td>...</td>\n",
       "      <td>...</td>\n",
       "      <td>...</td>\n",
       "      <td>...</td>\n",
       "      <td>...</td>\n",
       "      <td>...</td>\n",
       "      <td>...</td>\n",
       "      <td>...</td>\n",
       "      <td>...</td>\n",
       "      <td>...</td>\n",
       "      <td>...</td>\n",
       "      <td>...</td>\n",
       "    </tr>\n",
       "    <tr>\n",
       "      <th>219363</th>\n",
       "      <td>20201212202264</td>\n",
       "      <td>-1</td>\n",
       "      <td>1</td>\n",
       "      <td>43</td>\n",
       "      <td>2</td>\n",
       "      <td>1</td>\n",
       "      <td>35</td>\n",
       "      <td>1</td>\n",
       "      <td>2</td>\n",
       "      <td>2</td>\n",
       "      <td>...</td>\n",
       "      <td>0</td>\n",
       "      <td>0</td>\n",
       "      <td>0</td>\n",
       "      <td>0</td>\n",
       "      <td>0</td>\n",
       "      <td>0</td>\n",
       "      <td>0</td>\n",
       "      <td>0</td>\n",
       "      <td>0</td>\n",
       "      <td>0</td>\n",
       "    </tr>\n",
       "    <tr>\n",
       "      <th>219364</th>\n",
       "      <td>20201212202289</td>\n",
       "      <td>-1</td>\n",
       "      <td>1</td>\n",
       "      <td>34</td>\n",
       "      <td>2</td>\n",
       "      <td>1</td>\n",
       "      <td>26</td>\n",
       "      <td>5</td>\n",
       "      <td>-1</td>\n",
       "      <td>2</td>\n",
       "      <td>...</td>\n",
       "      <td>0</td>\n",
       "      <td>0</td>\n",
       "      <td>0</td>\n",
       "      <td>0</td>\n",
       "      <td>0</td>\n",
       "      <td>0</td>\n",
       "      <td>0</td>\n",
       "      <td>0</td>\n",
       "      <td>0</td>\n",
       "      <td>0</td>\n",
       "    </tr>\n",
       "    <tr>\n",
       "      <th>219365</th>\n",
       "      <td>20201212202303</td>\n",
       "      <td>-1</td>\n",
       "      <td>1</td>\n",
       "      <td>44</td>\n",
       "      <td>2</td>\n",
       "      <td>1</td>\n",
       "      <td>37</td>\n",
       "      <td>2</td>\n",
       "      <td>2</td>\n",
       "      <td>2</td>\n",
       "      <td>...</td>\n",
       "      <td>0</td>\n",
       "      <td>0</td>\n",
       "      <td>0</td>\n",
       "      <td>0</td>\n",
       "      <td>0</td>\n",
       "      <td>0</td>\n",
       "      <td>0</td>\n",
       "      <td>0</td>\n",
       "      <td>0</td>\n",
       "      <td>0</td>\n",
       "    </tr>\n",
       "    <tr>\n",
       "      <th>219366</th>\n",
       "      <td>20201212202312</td>\n",
       "      <td>-1</td>\n",
       "      <td>1</td>\n",
       "      <td>43</td>\n",
       "      <td>2</td>\n",
       "      <td>1</td>\n",
       "      <td>41</td>\n",
       "      <td>2</td>\n",
       "      <td>2</td>\n",
       "      <td>1</td>\n",
       "      <td>...</td>\n",
       "      <td>0</td>\n",
       "      <td>0</td>\n",
       "      <td>0</td>\n",
       "      <td>0</td>\n",
       "      <td>0</td>\n",
       "      <td>0</td>\n",
       "      <td>0</td>\n",
       "      <td>0</td>\n",
       "      <td>0</td>\n",
       "      <td>0</td>\n",
       "    </tr>\n",
       "    <tr>\n",
       "      <th>219367</th>\n",
       "      <td>20201212202329</td>\n",
       "      <td>-1</td>\n",
       "      <td>1</td>\n",
       "      <td>39</td>\n",
       "      <td>2</td>\n",
       "      <td>2</td>\n",
       "      <td>73</td>\n",
       "      <td>5</td>\n",
       "      <td>-1</td>\n",
       "      <td>-1</td>\n",
       "      <td>...</td>\n",
       "      <td>0</td>\n",
       "      <td>0</td>\n",
       "      <td>0</td>\n",
       "      <td>0</td>\n",
       "      <td>0</td>\n",
       "      <td>0</td>\n",
       "      <td>0</td>\n",
       "      <td>0</td>\n",
       "      <td>0</td>\n",
       "      <td>0</td>\n",
       "    </tr>\n",
       "  </tbody>\n",
       "</table>\n",
       "<p>219368 rows × 456 columns</p>\n",
       "</div>"
      ],
      "text/plain": [
       "              TUCASEID  GEMETSTA  GTMETSTA  PEEDUCA  PEHSPNON  PTDTRACE  \\\n",
       "0       20030100013280         1        -1       44         2         2   \n",
       "1       20030100013344         2        -1       40         2         1   \n",
       "2       20030100013352         1        -1       41         2         1   \n",
       "3       20030100013848         2        -1       39         2         2   \n",
       "4       20030100014165         2        -1       45         2         1   \n",
       "...                ...       ...       ...      ...       ...       ...   \n",
       "219363  20201212202264        -1         1       43         2         1   \n",
       "219364  20201212202289        -1         1       34         2         1   \n",
       "219365  20201212202303        -1         1       44         2         1   \n",
       "219366  20201212202312        -1         1       43         2         1   \n",
       "219367  20201212202329        -1         1       39         2         2   \n",
       "\n",
       "        TEAGE  TELFS  TEMJOT  TESCHENR  ...  t181801  t181899  t189999  \\\n",
       "0          60      2       2        -1  ...        0        0        0   \n",
       "1          41      1       2         2  ...        0        0        0   \n",
       "2          26      2       2         2  ...        0        0        0   \n",
       "3          36      4      -1         2  ...        0        0        0   \n",
       "4          51      1       2        -1  ...        0        0        0   \n",
       "...       ...    ...     ...       ...  ...      ...      ...      ...   \n",
       "219363     35      1       2         2  ...        0        0        0   \n",
       "219364     26      5      -1         2  ...        0        0        0   \n",
       "219365     37      2       2         2  ...        0        0        0   \n",
       "219366     41      2       2         1  ...        0        0        0   \n",
       "219367     73      5      -1        -1  ...        0        0        0   \n",
       "\n",
       "        t500101  t500103  t500104  t500105  t500106  t500107  t509989  \n",
       "0             0        0        0        0        0        0        0  \n",
       "1             0        0        0        0        0        0        0  \n",
       "2             0        0        0        0        0        0        0  \n",
       "3             0        0        0        0        0        0        0  \n",
       "4             0        0        0        0        0        0        0  \n",
       "...         ...      ...      ...      ...      ...      ...      ...  \n",
       "219363        0        0        0        0        0        0        0  \n",
       "219364        0        0        0        0        0        0        0  \n",
       "219365        0        0        0        0        0        0        0  \n",
       "219366        0        0        0        0        0        0        0  \n",
       "219367        0        0        0        0        0        0        0  \n",
       "\n",
       "[219368 rows x 456 columns]"
      ]
     },
     "execution_count": 147,
     "metadata": {},
     "output_type": "execute_result"
    }
   ],
   "source": [
    "df = pd.read_csv('atussum_0320.dat')\n",
    "df"
   ]
  },
  {
   "cell_type": "code",
   "execution_count": 165,
   "id": "1ddd1848",
   "metadata": {},
   "outputs": [],
   "source": [
    "df['TUCASEID'] = df['TUCASEID'].astype(str)\n",
    "df['YEAR'] = df['TUCASEID'].str[0:4]\n",
    "df_0304 = df[(df['YEAR']=='2003')]\n",
    "df_2004 = df[(df['YEAR']=='2004')]\n",
    "df_2005 = df[df['YEAR']=='2005']\n",
    "df_0304 = df_0304[df_0304['TEAGE'] > 17]\n",
    "df_0304 = df_0304[df_0304['TEAGE'] < 66]\n",
    "df_2004 = df_2004[df_2004['TEAGE'] < 66]\n",
    "df_2004 = df_2004[df_2004['TEAGE'] < 66]\n",
    "df_2005 = df_2005[df_2005['TEAGE'] < 66]\n",
    "df_2005 = df_2005[df_2005['TEAGE'] < 66]\n",
    "df_0304 = df_0304.dropna()\n",
    "df_2005 = df_2005.dropna()"
   ]
  },
  {
   "cell_type": "code",
   "execution_count": 166,
   "id": "630bda0b",
   "metadata": {},
   "outputs": [
    {
     "data": {
      "text/plain": [
       "4.883075087592124"
      ]
     },
     "execution_count": 166,
     "metadata": {},
     "output_type": "execute_result"
    }
   ],
   "source": [
    "child_care = ['t030101', 't030102', 't030103', 't030104', 't030105', 't030106', 't030107','t030108', 't030109', 't030110', 't030111', 't030112', 't030199', 't030201', 't030202', 't030203', 't030204', 't030299', 't030301', 't030302', 't030303', 't030399', 't040101', 't040102', 't040103', 't040104', 't040105', 't040106', 't040107','t040108', 't040109', 't040110', 't040111', 't040112', 't040199', 't040201', 't040202', 't040203', 't040204', 't040299', 't040301', 't040302', 't040303', 't180301', 't180302', 't180303', 't180401', 't180402', 't180403']\n",
    "for i in child_care:\n",
    "    if i not in df_2005.columns:\n",
    "        df_2005[i] = 0\n",
    "df_2005['child_care'] = df_2005[child_care].sum(axis=1)\n",
    "df_2005['child_care'].mean()/60*7"
   ]
  },
  {
   "cell_type": "code",
   "execution_count": 167,
   "id": "103e3367",
   "metadata": {},
   "outputs": [
    {
     "data": {
      "text/plain": [
       "4.826591046581973"
      ]
     },
     "execution_count": 167,
     "metadata": {},
     "output_type": "execute_result"
    }
   ],
   "source": [
    "child_care = ['t030101', 't030102', 't030103', 't030104', 't030105', 't030106', 't030107','t030108', 't030109', 't030110', 't030111', 't030112', 't030199', 't030201', 't030202', 't030203', 't030204', 't030299', 't030301', 't030302', 't030303', 't030399', 't040101', 't040102', 't040103', 't040104', 't040105', 't040106', 't040107','t040108', 't040109', 't040110', 't040111', 't040112', 't040199', 't040201', 't040202', 't040203', 't040204', 't040299', 't040301', 't040302', 't040303', 't040399', 't170301', 't170401']#'t180301', 't180302', 't180303', 't180401', 't180402', 't180403']\n",
    "for i in child_care:\n",
    "    if i not in df_0304.columns:\n",
    "        df_0304[i] = 0\n",
    "df_0304['child_care'] = df_0304[child_care].sum(axis=1)\n",
    "df_0304['child_care'].mean()/60*7"
   ]
  },
  {
   "cell_type": "code",
   "execution_count": 168,
   "id": "fc0ac034",
   "metadata": {},
   "outputs": [
    {
     "data": {
      "text/plain": [
       "4.547676042290046"
      ]
     },
     "execution_count": 168,
     "metadata": {},
     "output_type": "execute_result"
    }
   ],
   "source": [
    "child_care = ['t030101', 't030102', 't030103', 't030104', 't030105', 't030106', 't030107','t030108', 't030109', 't030110', 't030111', 't030112', 't030199', 't030201', 't030202', 't030203', 't030204', 't030299', 't030301', 't030302', 't030303', 't030399', 't040101', 't040102', 't040103', 't040104', 't040105', 't040106', 't040107','t040108', 't040109', 't040110', 't040111', 't040112', 't040199', 't040201', 't040202', 't040203', 't040204', 't040299', 't040301', 't040302', 't040303', 't180301', 't180302', 't180303', 't180401', 't180402', 't180403']\n",
    "for i in child_care:\n",
    "    if i not in df_2004.columns:\n",
    "        df_2004[i] = 0\n",
    "df_2004['child_care'] = df_2004[child_care].sum(axis=1)\n",
    "df_2004['child_care'].mean()/60*7"
   ]
  },
  {
   "cell_type": "code",
   "execution_count": 164,
   "id": "d6e20b57",
   "metadata": {},
   "outputs": [
    {
     "data": {
      "text/plain": [
       "4.752447392154714"
      ]
     },
     "execution_count": 164,
     "metadata": {},
     "output_type": "execute_result"
    }
   ],
   "source": [
    "(4.883075087592124+4.826591046581973+4.547676042290046)/3"
   ]
  },
  {
   "cell_type": "code",
   "execution_count": 152,
   "id": "02379633",
   "metadata": {},
   "outputs": [
    {
     "data": {
      "text/plain": [
       "22.166302770927025"
      ]
     },
     "execution_count": 152,
     "metadata": {},
     "output_type": "execute_result"
    }
   ],
   "source": [
    "market_work = ['t050101', 't050102', 't050103', 't050199', 't050201', 't050202', 't050203', 't050204', 't050205', 't050299','t059999', 't170503', 't170504']\n",
    "for i in market_work:\n",
    "    if i not in df_0304.columns:\n",
    "        df_0304[i] = 0\n",
    "df_0304['market_work'] = df_0304[market_work].sum(axis=1)\n",
    "df_0304['market_work'].mean()/60*7"
   ]
  },
  {
   "cell_type": "code",
   "execution_count": 153,
   "id": "8adb32fd",
   "metadata": {},
   "outputs": [
    {
     "data": {
      "text/plain": [
       "21.50763108614232"
      ]
     },
     "execution_count": 153,
     "metadata": {},
     "output_type": "execute_result"
    }
   ],
   "source": [
    "market_work = ['t050101', 't050102', 't050103', 't050104', 't050199', 't050201', 't050202', 't050203', 't050204', 't050299','t059999', 't180505']\n",
    "for i in market_work:\n",
    "    if i not in df_2005.columns:\n",
    "        df_2005[i] = 0\n",
    "df_2005['market_work'] = df_2005[market_work].sum(axis=1)\n",
    "df_2005['market_work'].mean()/60*7"
   ]
  },
  {
   "cell_type": "code",
   "execution_count": 154,
   "id": "2dcbc936",
   "metadata": {},
   "outputs": [
    {
     "data": {
      "text/plain": [
       "21.97857083005592"
      ]
     },
     "execution_count": 154,
     "metadata": {},
     "output_type": "execute_result"
    }
   ],
   "source": [
    "(22.299818656608153 + 21.657323003503684)/2"
   ]
  },
  {
   "cell_type": "code",
   "execution_count": 155,
   "id": "703b9e1f",
   "metadata": {},
   "outputs": [
    {
     "data": {
      "text/plain": [
       "0.11995439168780958"
      ]
     },
     "execution_count": 155,
     "metadata": {},
     "output_type": "execute_result"
    }
   ],
   "source": [
    "other_income = ['t050301', 't050302', 't050303', 't050304', 't050305', 't050399', 't180503']\n",
    "for i in other_income:\n",
    "    if i not in df_2005.columns:\n",
    "        df_2005[i] = 0\n",
    "df_2005['other_income'] = df_2005[other_income].sum(axis=1)\n",
    "df_2005['other_income'].mean()/60*7"
   ]
  },
  {
   "cell_type": "code",
   "execution_count": 156,
   "id": "84c3d609",
   "metadata": {},
   "outputs": [
    {
     "data": {
      "text/plain": [
       "0.10876674403984718"
      ]
     },
     "execution_count": 156,
     "metadata": {},
     "output_type": "execute_result"
    }
   ],
   "source": [
    "other_income = ['t050301', 't050302', 't050303', 't050304', 't050305', 't050399', 't170503']\n",
    "for i in other_income:\n",
    "    if i not in df_0304.columns:\n",
    "        df_0304[i] = 0\n",
    "df_0304['other_income'] = df_0304[other_income].sum(axis=1)\n",
    "df_0304['other_income'].mean()/60*7"
   ]
  },
  {
   "cell_type": "code",
   "execution_count": 157,
   "id": "63819f83",
   "metadata": {},
   "outputs": [
    {
     "data": {
      "text/plain": [
       "0.11436056786382838"
      ]
     },
     "execution_count": 157,
     "metadata": {},
     "output_type": "execute_result"
    }
   ],
   "source": [
    "(0.11995439168780958+0.10876674403984718)/2"
   ]
  },
  {
   "cell_type": "code",
   "execution_count": 158,
   "id": "1e5d8c73",
   "metadata": {},
   "outputs": [
    {
     "data": {
      "text/plain": [
       "0.024749141641278595"
      ]
     },
     "execution_count": 158,
     "metadata": {},
     "output_type": "execute_result"
    }
   ],
   "source": [
    "job_search = ['t050401', 't050402', 't050403', 't050404', 't050405', 't050499', 't170504']\n",
    "for i in job_search:\n",
    "    if i not in df_0304.columns:\n",
    "        df_0304[i] = 0\n",
    "df_0304['job_search'] = df_0304[job_search].sum(axis=1)\n",
    "df_0304['job_search'].mean()/60*7"
   ]
  },
  {
   "cell_type": "code",
   "execution_count": 159,
   "id": "016fa122",
   "metadata": {},
   "outputs": [
    {
     "data": {
      "text/plain": [
       "0.02973752567355322"
      ]
     },
     "execution_count": 159,
     "metadata": {},
     "output_type": "execute_result"
    }
   ],
   "source": [
    "job_search = ['t050401', 't050402', 't050403', 't050404', 't050405', 't050499', 't180504']\n",
    "for i in job_search:\n",
    "    if i not in df_2005.columns:\n",
    "        df_2005[i] = 0\n",
    "df_2005['job_search'] = df_2005[job_search].sum(axis=1)\n",
    "df_2005['job_search'].mean()/60*7"
   ]
  },
  {
   "cell_type": "markdown",
   "id": "bbefe9fe",
   "metadata": {},
   "source": [
    "## ALL ATUS"
   ]
  },
  {
   "cell_type": "code",
   "execution_count": 195,
   "id": "cbe9dbad",
   "metadata": {
    "scrolled": true
   },
   "outputs": [],
   "source": [
    "df = pd.read_stata('all_atus.dta')"
   ]
  },
  {
   "cell_type": "code",
   "execution_count": 196,
   "id": "b6291556",
   "metadata": {},
   "outputs": [
    {
     "data": {
      "text/html": [
       "<div>\n",
       "<style scoped>\n",
       "    .dataframe tbody tr th:only-of-type {\n",
       "        vertical-align: middle;\n",
       "    }\n",
       "\n",
       "    .dataframe tbody tr th {\n",
       "        vertical-align: top;\n",
       "    }\n",
       "\n",
       "    .dataframe thead th {\n",
       "        text-align: right;\n",
       "    }\n",
       "</style>\n",
       "<table border=\"1\" class=\"dataframe\">\n",
       "  <thead>\n",
       "    <tr style=\"text-align: right;\">\n",
       "      <th></th>\n",
       "      <th>age</th>\n",
       "      <th>interview_date</th>\n",
       "      <th>weight_adj</th>\n",
       "      <th>work_paper</th>\n",
       "      <th>month</th>\n",
       "      <th>year</th>\n",
       "      <th>time</th>\n",
       "    </tr>\n",
       "  </thead>\n",
       "  <tbody>\n",
       "    <tr>\n",
       "      <th>201151</th>\n",
       "      <td>85.0</td>\n",
       "      <td>2019-01-27</td>\n",
       "      <td>0.000024</td>\n",
       "      <td>0.00</td>\n",
       "      <td>1</td>\n",
       "      <td>2019</td>\n",
       "      <td>12019</td>\n",
       "    </tr>\n",
       "    <tr>\n",
       "      <th>201152</th>\n",
       "      <td>25.0</td>\n",
       "      <td>2019-01-30</td>\n",
       "      <td>0.000549</td>\n",
       "      <td>0.00</td>\n",
       "      <td>1</td>\n",
       "      <td>2019</td>\n",
       "      <td>12019</td>\n",
       "    </tr>\n",
       "    <tr>\n",
       "      <th>201153</th>\n",
       "      <td>20.0</td>\n",
       "      <td>2019-01-31</td>\n",
       "      <td>0.000252</td>\n",
       "      <td>45.50</td>\n",
       "      <td>1</td>\n",
       "      <td>2019</td>\n",
       "      <td>12019</td>\n",
       "    </tr>\n",
       "    <tr>\n",
       "      <th>201154</th>\n",
       "      <td>61.0</td>\n",
       "      <td>2019-01-29</td>\n",
       "      <td>0.000229</td>\n",
       "      <td>0.00</td>\n",
       "      <td>1</td>\n",
       "      <td>2019</td>\n",
       "      <td>12019</td>\n",
       "    </tr>\n",
       "    <tr>\n",
       "      <th>201155</th>\n",
       "      <td>34.0</td>\n",
       "      <td>2019-01-27</td>\n",
       "      <td>0.000027</td>\n",
       "      <td>10.50</td>\n",
       "      <td>1</td>\n",
       "      <td>2019</td>\n",
       "      <td>12019</td>\n",
       "    </tr>\n",
       "    <tr>\n",
       "      <th>...</th>\n",
       "      <td>...</td>\n",
       "      <td>...</td>\n",
       "      <td>...</td>\n",
       "      <td>...</td>\n",
       "      <td>...</td>\n",
       "      <td>...</td>\n",
       "      <td>...</td>\n",
       "    </tr>\n",
       "    <tr>\n",
       "      <th>219363</th>\n",
       "      <td>35.0</td>\n",
       "      <td>2020-12-30</td>\n",
       "      <td>0.000127</td>\n",
       "      <td>85.75</td>\n",
       "      <td>12</td>\n",
       "      <td>2020</td>\n",
       "      <td>122020</td>\n",
       "    </tr>\n",
       "    <tr>\n",
       "      <th>219364</th>\n",
       "      <td>26.0</td>\n",
       "      <td>2020-12-27</td>\n",
       "      <td>0.000099</td>\n",
       "      <td>0.00</td>\n",
       "      <td>12</td>\n",
       "      <td>2020</td>\n",
       "      <td>122020</td>\n",
       "    </tr>\n",
       "    <tr>\n",
       "      <th>219365</th>\n",
       "      <td>37.0</td>\n",
       "      <td>2020-12-27</td>\n",
       "      <td>0.000121</td>\n",
       "      <td>0.00</td>\n",
       "      <td>12</td>\n",
       "      <td>2020</td>\n",
       "      <td>122020</td>\n",
       "    </tr>\n",
       "    <tr>\n",
       "      <th>219366</th>\n",
       "      <td>41.0</td>\n",
       "      <td>2020-12-29</td>\n",
       "      <td>0.000106</td>\n",
       "      <td>0.00</td>\n",
       "      <td>12</td>\n",
       "      <td>2020</td>\n",
       "      <td>122020</td>\n",
       "    </tr>\n",
       "    <tr>\n",
       "      <th>219367</th>\n",
       "      <td>73.0</td>\n",
       "      <td>2020-12-27</td>\n",
       "      <td>0.000035</td>\n",
       "      <td>0.00</td>\n",
       "      <td>12</td>\n",
       "      <td>2020</td>\n",
       "      <td>122020</td>\n",
       "    </tr>\n",
       "  </tbody>\n",
       "</table>\n",
       "<p>18217 rows × 7 columns</p>\n",
       "</div>"
      ],
      "text/plain": [
       "         age interview_date  weight_adj  work_paper  month  year    time\n",
       "201151  85.0     2019-01-27    0.000024        0.00      1  2019   12019\n",
       "201152  25.0     2019-01-30    0.000549        0.00      1  2019   12019\n",
       "201153  20.0     2019-01-31    0.000252       45.50      1  2019   12019\n",
       "201154  61.0     2019-01-29    0.000229        0.00      1  2019   12019\n",
       "201155  34.0     2019-01-27    0.000027       10.50      1  2019   12019\n",
       "...      ...            ...         ...         ...    ...   ...     ...\n",
       "219363  35.0     2020-12-30    0.000127       85.75     12  2020  122020\n",
       "219364  26.0     2020-12-27    0.000099        0.00     12  2020  122020\n",
       "219365  37.0     2020-12-27    0.000121        0.00     12  2020  122020\n",
       "219366  41.0     2020-12-29    0.000106        0.00     12  2020  122020\n",
       "219367  73.0     2020-12-27    0.000035        0.00     12  2020  122020\n",
       "\n",
       "[18217 rows x 7 columns]"
      ]
     },
     "execution_count": 196,
     "metadata": {},
     "output_type": "execute_result"
    }
   ],
   "source": [
    "df = df[['age','interview_date','weight_adj','work_paper']]\n",
    "df['month'] = pd.DatetimeIndex(df['interview_date']).month\n",
    "df['year'] = pd.DatetimeIndex(df['interview_date']).year\n",
    "df = df[df['year']>=2019]\n",
    "df['time'] = df['month'].astype(str) + df['year'].astype(str)\n",
    "df['time'] = df['time'].astype(int)\n",
    "df"
   ]
  },
  {
   "cell_type": "code",
   "execution_count": 197,
   "id": "f53aae67",
   "metadata": {},
   "outputs": [],
   "source": [
    "df.to_stata('timeseries.dta')"
   ]
  },
  {
   "cell_type": "code",
   "execution_count": 198,
   "id": "7ad6fed9",
   "metadata": {},
   "outputs": [
    {
     "data": {
      "text/plain": [
       "array([ 12019,  22019,  32019,  42019,  52019,  62019,  72019,  82019,\n",
       "        92019, 102019, 112019, 122019,  12020,  22020,  32020,  52020,\n",
       "        62020,  72020,  82020,  92020, 102020, 112020, 122020])"
      ]
     },
     "execution_count": 198,
     "metadata": {},
     "output_type": "execute_result"
    }
   ],
   "source": [
    "df['time'].unique()"
   ]
  },
  {
   "cell_type": "code",
   "execution_count": null,
   "id": "c081d9cd",
   "metadata": {},
   "outputs": [],
   "source": []
  }
 ],
 "metadata": {
  "kernelspec": {
   "display_name": "Python 3 (ipykernel)",
   "language": "python",
   "name": "python3"
  },
  "language_info": {
   "codemirror_mode": {
    "name": "ipython",
    "version": 3
   },
   "file_extension": ".py",
   "mimetype": "text/x-python",
   "name": "python",
   "nbconvert_exporter": "python",
   "pygments_lexer": "ipython3",
   "version": "3.9.8"
  }
 },
 "nbformat": 4,
 "nbformat_minor": 5
}
